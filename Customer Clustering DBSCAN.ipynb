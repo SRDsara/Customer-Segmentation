{
 "cells": [
  {
   "cell_type": "markdown",
   "id": "7b389cc5",
   "metadata": {},
   "source": [
    "## 1- Importing Packages"
   ]
  },
  {
   "cell_type": "code",
   "execution_count": 19,
   "id": "ec6b27ad",
   "metadata": {},
   "outputs": [],
   "source": [
    "from kneed import KneeLocator\n",
    "import matplotlib.pyplot as plt\n",
    "import numpy as np\n",
    "import pandas as pd\n",
    "from sklearn import preprocessing\n",
    "from sklearn.cluster import DBSCAN\n",
    "from sklearn.decomposition import PCA\n",
    "from sklearn.metrics import silhouette_score\n",
    "from sklearn.neighbors import NearestNeighbors"
   ]
  },
  {
   "cell_type": "markdown",
   "id": "53f13e81",
   "metadata": {},
   "source": [
    "## 2- Import Dataset"
   ]
  },
  {
   "cell_type": "code",
   "execution_count": 3,
   "id": "eb277d74",
   "metadata": {},
   "outputs": [],
   "source": [
    "df = pd.read_csv(\"B:\\ML Jadi\\Clustering project\\KMeans\\Customer.csv\")"
   ]
  },
  {
   "cell_type": "markdown",
   "id": "c65cad15",
   "metadata": {},
   "source": [
    "## 3- Preprocessing"
   ]
  },
  {
   "cell_type": "code",
   "execution_count": 4,
   "id": "51e9ef74",
   "metadata": {},
   "outputs": [
    {
     "data": {
      "text/html": [
       "<div>\n",
       "<style scoped>\n",
       "    .dataframe tbody tr th:only-of-type {\n",
       "        vertical-align: middle;\n",
       "    }\n",
       "\n",
       "    .dataframe tbody tr th {\n",
       "        vertical-align: top;\n",
       "    }\n",
       "\n",
       "    .dataframe thead th {\n",
       "        text-align: right;\n",
       "    }\n",
       "</style>\n",
       "<table border=\"1\" class=\"dataframe\">\n",
       "  <thead>\n",
       "    <tr style=\"text-align: right;\">\n",
       "      <th></th>\n",
       "      <th>CustomerID</th>\n",
       "      <th>Gender</th>\n",
       "      <th>Age</th>\n",
       "      <th>Annual Income (k$)</th>\n",
       "      <th>Spending Score (1-100)</th>\n",
       "    </tr>\n",
       "  </thead>\n",
       "  <tbody>\n",
       "    <tr>\n",
       "      <th>0</th>\n",
       "      <td>1</td>\n",
       "      <td>Male</td>\n",
       "      <td>19</td>\n",
       "      <td>15</td>\n",
       "      <td>39</td>\n",
       "    </tr>\n",
       "    <tr>\n",
       "      <th>1</th>\n",
       "      <td>2</td>\n",
       "      <td>Male</td>\n",
       "      <td>21</td>\n",
       "      <td>15</td>\n",
       "      <td>81</td>\n",
       "    </tr>\n",
       "    <tr>\n",
       "      <th>2</th>\n",
       "      <td>3</td>\n",
       "      <td>Female</td>\n",
       "      <td>20</td>\n",
       "      <td>16</td>\n",
       "      <td>6</td>\n",
       "    </tr>\n",
       "    <tr>\n",
       "      <th>3</th>\n",
       "      <td>4</td>\n",
       "      <td>Female</td>\n",
       "      <td>23</td>\n",
       "      <td>16</td>\n",
       "      <td>77</td>\n",
       "    </tr>\n",
       "    <tr>\n",
       "      <th>4</th>\n",
       "      <td>5</td>\n",
       "      <td>Female</td>\n",
       "      <td>31</td>\n",
       "      <td>17</td>\n",
       "      <td>40</td>\n",
       "    </tr>\n",
       "  </tbody>\n",
       "</table>\n",
       "</div>"
      ],
      "text/plain": [
       "   CustomerID  Gender  Age  Annual Income (k$)  Spending Score (1-100)\n",
       "0           1    Male   19                  15                      39\n",
       "1           2    Male   21                  15                      81\n",
       "2           3  Female   20                  16                       6\n",
       "3           4  Female   23                  16                      77\n",
       "4           5  Female   31                  17                      40"
      ]
     },
     "execution_count": 4,
     "metadata": {},
     "output_type": "execute_result"
    }
   ],
   "source": [
    "df.head()"
   ]
  },
  {
   "cell_type": "code",
   "execution_count": 5,
   "id": "ba30e35d",
   "metadata": {},
   "outputs": [
    {
     "data": {
      "text/plain": [
       "CustomerID                0\n",
       "Gender                    0\n",
       "Age                       0\n",
       "Annual Income (k$)        0\n",
       "Spending Score (1-100)    0\n",
       "dtype: int64"
      ]
     },
     "execution_count": 5,
     "metadata": {},
     "output_type": "execute_result"
    }
   ],
   "source": [
    "df.isnull().sum()"
   ]
  },
  {
   "cell_type": "markdown",
   "id": "403806c4",
   "metadata": {},
   "source": [
    "### 3-1- Label encoding"
   ]
  },
  {
   "cell_type": "code",
   "execution_count": 6,
   "id": "a9b372d6",
   "metadata": {},
   "outputs": [],
   "source": [
    "le_Gender = preprocessing.LabelEncoder()\n",
    "le_Gender.fit(df[\"Gender\"].unique())\n",
    "df[\"Gender\"] = le_Gender.fit_transform(df[\"Gender\"])"
   ]
  },
  {
   "cell_type": "markdown",
   "id": "4c7d7ded",
   "metadata": {},
   "source": [
    "### 3-2-  Select features and define X"
   ]
  },
  {
   "cell_type": "code",
   "execution_count": 7,
   "id": "5c6ddbb0",
   "metadata": {},
   "outputs": [],
   "source": [
    "X = df[[\"Gender\", \"Age\", \"Annual Income (k$)\", \"Spending Score (1-100)\"]]"
   ]
  },
  {
   "cell_type": "markdown",
   "id": "760f0021",
   "metadata": {},
   "source": [
    "### 3-3- Normalization"
   ]
  },
  {
   "cell_type": "code",
   "execution_count": 8,
   "id": "70afe079",
   "metadata": {},
   "outputs": [],
   "source": [
    "scaler = preprocessing.StandardScaler().fit(X)\n",
    "X = scaler.fit_transform(X)"
   ]
  },
  {
   "cell_type": "markdown",
   "id": "b337946e",
   "metadata": {},
   "source": [
    "## 4- DBSCAN"
   ]
  },
  {
   "cell_type": "markdown",
   "id": "58082401",
   "metadata": {},
   "source": [
    "#### Before applying DBSCAN algorithm we need to specify its 2 parameters:"
   ]
  },
  {
   "cell_type": "markdown",
   "id": "5283ea60",
   "metadata": {},
   "source": [
    "#### min_samples: The minimum number of points to be used to recognize a cluster should be: 2 * Data dimension. So MinPoint=8"
   ]
  },
  {
   "cell_type": "markdown",
   "id": "33f5cf30",
   "metadata": {},
   "source": [
    "#### eps: We find the K nearest neighbors for all the data points, and then get the sorted Kth column and plot it. Look for the knee point. That's epsilon."
   ]
  },
  {
   "cell_type": "code",
   "execution_count": 9,
   "id": "67cde94a",
   "metadata": {},
   "outputs": [],
   "source": [
    "nnbrs = NearestNeighbors(n_neighbors=8).fit(X)\n",
    "neigh_dist, neigh_ind = nnbrs.kneighbors(X)\n",
    "k_dist = np.sort(neigh_dist, axis = 0)[:, 7]"
   ]
  },
  {
   "cell_type": "code",
   "execution_count": 10,
   "id": "17460d86",
   "metadata": {},
   "outputs": [
    {
     "data": {
      "text/plain": [
       "[<matplotlib.lines.Line2D at 0x1506e553ee0>]"
      ]
     },
     "execution_count": 10,
     "metadata": {},
     "output_type": "execute_result"
    },
    {
     "data": {
      "image/png": "[encoded data removed]",
      "text/plain": [
       "<Figure size 640x480 with 1 Axes>"
      ]
     },
     "metadata": {},
     "output_type": "display_data"
    }
   ],
   "source": [
    "plt.plot(k_dist)"
   ]
  },
  {
   "cell_type": "markdown",
   "id": "5322305c",
   "metadata": {},
   "source": [
    "#### The knee point can occur at any point between 1 to 1.75. The points above the knee point are noise or outliers, and the points below the knee point belongs to a cluster. We have 2 options to find the exact knee point:\n",
    "#### 1- Run DBSCAN based on different values of epsilon between 1 to 1.75 to find the best one.\n",
    "#### 2- Use the KneeLocator() function:"
   ]
  },
  {
   "cell_type": "code",
   "execution_count": 24,
   "id": "55498ac0",
   "metadata": {},
   "outputs": [],
   "source": [
    "kneedle = KneeLocator(x = range(1, len(neigh_dist)+1), y = k_dist, \n",
    "                      curve = \"concave\", direction = \"increasing\", online=True)"
   ]
  },
  {
   "cell_type": "markdown",
   "id": "84d6be09",
   "metadata": {},
   "source": [
    "### get the estimate of knee point"
   ]
  },
  {
   "cell_type": "code",
   "execution_count": 12,
   "id": "31fa77de",
   "metadata": {},
   "outputs": [],
   "source": [
    "epsilon = kneedle.knee_y"
   ]
  },
  {
   "cell_type": "code",
   "execution_count": 13,
   "id": "efd8aa13",
   "metadata": {},
   "outputs": [
    {
     "data": {
      "image/png": "[encoded data removed]",
      "text/plain": [
       "<Figure size 600x600 with 1 Axes>"
      ]
     },
     "metadata": {},
     "output_type": "display_data"
    }
   ],
   "source": [
    "kneedle.plot_knee()\n",
    "plt.show()"
   ]
  },
  {
   "cell_type": "markdown",
   "id": "15c10e7d",
   "metadata": {},
   "source": [
    "### Fit the model"
   ]
  },
  {
   "cell_type": "code",
   "execution_count": 15,
   "id": "c2450bdf",
   "metadata": {},
   "outputs": [],
   "source": [
    "db = DBSCAN(eps=epsilon, min_samples=8)\n",
    "db.fit(X)\n",
    "df[\"Labels\"] = db.labels_"
   ]
  },
  {
   "cell_type": "code",
   "execution_count": 16,
   "id": "62f7748d",
   "metadata": {},
   "outputs": [
    {
     "data": {
      "text/html": [
       "<div>\n",
       "<style scoped>\n",
       "    .dataframe tbody tr th:only-of-type {\n",
       "        vertical-align: middle;\n",
       "    }\n",
       "\n",
       "    .dataframe tbody tr th {\n",
       "        vertical-align: top;\n",
       "    }\n",
       "\n",
       "    .dataframe thead th {\n",
       "        text-align: right;\n",
       "    }\n",
       "</style>\n",
       "<table border=\"1\" class=\"dataframe\">\n",
       "  <thead>\n",
       "    <tr style=\"text-align: right;\">\n",
       "      <th></th>\n",
       "      <th>CustomerID</th>\n",
       "      <th>Gender</th>\n",
       "      <th>Age</th>\n",
       "      <th>Annual Income (k$)</th>\n",
       "      <th>Spending Score (1-100)</th>\n",
       "      <th>Labels</th>\n",
       "    </tr>\n",
       "  </thead>\n",
       "  <tbody>\n",
       "    <tr>\n",
       "      <th>0</th>\n",
       "      <td>1</td>\n",
       "      <td>1</td>\n",
       "      <td>19</td>\n",
       "      <td>15</td>\n",
       "      <td>39</td>\n",
       "      <td>0</td>\n",
       "    </tr>\n",
       "    <tr>\n",
       "      <th>1</th>\n",
       "      <td>2</td>\n",
       "      <td>1</td>\n",
       "      <td>21</td>\n",
       "      <td>15</td>\n",
       "      <td>81</td>\n",
       "      <td>0</td>\n",
       "    </tr>\n",
       "    <tr>\n",
       "      <th>2</th>\n",
       "      <td>3</td>\n",
       "      <td>0</td>\n",
       "      <td>20</td>\n",
       "      <td>16</td>\n",
       "      <td>6</td>\n",
       "      <td>1</td>\n",
       "    </tr>\n",
       "    <tr>\n",
       "      <th>3</th>\n",
       "      <td>4</td>\n",
       "      <td>0</td>\n",
       "      <td>23</td>\n",
       "      <td>16</td>\n",
       "      <td>77</td>\n",
       "      <td>1</td>\n",
       "    </tr>\n",
       "    <tr>\n",
       "      <th>4</th>\n",
       "      <td>5</td>\n",
       "      <td>0</td>\n",
       "      <td>31</td>\n",
       "      <td>17</td>\n",
       "      <td>40</td>\n",
       "      <td>1</td>\n",
       "    </tr>\n",
       "  </tbody>\n",
       "</table>\n",
       "</div>"
      ],
      "text/plain": [
       "   CustomerID  Gender  Age  Annual Income (k$)  Spending Score (1-100)  Labels\n",
       "0           1       1   19                  15                      39       0\n",
       "1           2       1   21                  15                      81       0\n",
       "2           3       0   20                  16                       6       1\n",
       "3           4       0   23                  16                      77       1\n",
       "4           5       0   31                  17                      40       1"
      ]
     },
     "execution_count": 16,
     "metadata": {},
     "output_type": "execute_result"
    }
   ],
   "source": [
    "df.head()"
   ]
  },
  {
   "cell_type": "code",
   "execution_count": 17,
   "id": "4229cdbc",
   "metadata": {},
   "outputs": [
    {
     "data": {
      "text/plain": [
       "array([0, 0, 1, 1, 1, 1, 1, 1, 0, 1, 0, 1, 1, 1, 0, 0, 1, 0, 0, 1, 0, 0,\n",
       "       1, 0, 1, 0, 1, 0, 1, 1, 0, 1, 0, 0, 1, 1, 1, 1, 1, 1, 1, 0, 0, 1,\n",
       "       1, 1, 1, 1, 1, 1, 1, 0, 1, 0, 1, 0, 1, 0, 1, 0, 0, 0, 1, 1, 0, 0,\n",
       "       1, 1, 0, 1, 0, 1, 1, 1, 0, 0, 1, 0, 1, 1, 0, 0, 0, 1, 1, 0, 1, 1,\n",
       "       1, 1, 1, 0, 0, 1, 1, 0, 1, 1, 0, 0, 1, 1, 0, 0, 0, 1, 1, 0, 0, 0,\n",
       "       0, 1, 1, 0, 1, 1, 1, 1, 1, 1, 0, 1, 1, 0, 1, 1, 0, 0, 0, 0, 0, 0,\n",
       "       1, 1, 0, 1, 1, 0, 0, 1, 1, 0, 1, 1, 0, 0, 0, 1, 1, 0, 0, 0, 1, 1,\n",
       "       1, 1, 0, 1, 0, 1, 1, 1, 0, 1, 0, 1, 0, 1, 1, 0, 0, 0, 0, 0, 1, 1,\n",
       "       0, 0, 0, 0, 1, 1, 0, 1, 1, 0, 1, 0, 1, 1, 1, 1, 0, 1, 1, 1, 1, 0,\n",
       "       0, 0], dtype=int64)"
      ]
     },
     "execution_count": 17,
     "metadata": {},
     "output_type": "execute_result"
    }
   ],
   "source": [
    "db.labels_"
   ]
  },
  {
   "cell_type": "markdown",
   "id": "8f0673f0",
   "metadata": {},
   "source": [
    "#### We have 2 clusters and no noise."
   ]
  },
  {
   "cell_type": "markdown",
   "id": "4109561f",
   "metadata": {},
   "source": [
    "## 5- Calculate silhouette score"
   ]
  },
  {
   "cell_type": "code",
   "execution_count": 22,
   "id": "e3edd782",
   "metadata": {},
   "outputs": [],
   "source": [
    "silhouette_average_score = silhouette_score(X, db.fit_predict(X))"
   ]
  },
  {
   "cell_type": "code",
   "execution_count": 23,
   "id": "91d81cfa",
   "metadata": {},
   "outputs": [
    {
     "data": {
      "text/plain": [
       "0.2776035125578272"
      ]
     },
     "execution_count": 23,
     "metadata": {},
     "output_type": "execute_result"
    }
   ],
   "source": [
    "silhouette_average_score"
   ]
  }
 ],
 "metadata": {
  "kernelspec": {
   "display_name": "Python 3 (ipykernel)",
   "language": "python",
   "name": "python3"
  },
  "language_info": {
   "codemirror_mode": {
    "name": "ipython",
    "version": 3
   },
   "file_extension": ".py",
   "mimetype": "text/x-python",
   "name": "python",
   "nbconvert_exporter": "python",
   "pygments_lexer": "ipython3",
   "version": "3.9.13"
  }
 },
 "nbformat": 4,
 "nbformat_minor": 5
}
